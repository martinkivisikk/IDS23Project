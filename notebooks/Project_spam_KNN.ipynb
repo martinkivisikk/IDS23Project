{
 "cells": [
  {
   "cell_type": "code",
   "execution_count": 1,
   "id": "cbd7df3a",
   "metadata": {
    "ExecuteTime": {
     "end_time": "2023-12-07T12:19:38.845662200Z",
     "start_time": "2023-12-07T12:19:38.842677Z"
    }
   },
   "outputs": [],
   "source": [
    "import pandas as pd\n",
    "import numpy as np\n",
    "import matplotlib.pyplot as plt\n",
    "import seaborn as sns"
   ]
  },
  {
   "cell_type": "code",
   "execution_count": 8,
   "id": "5a664f78",
   "metadata": {
    "ExecuteTime": {
     "end_time": "2023-12-07T12:38:58.972675600Z",
     "start_time": "2023-12-07T12:38:57.276275300Z"
    }
   },
   "outputs": [
    {
     "name": "stdout",
     "output_type": "stream",
     "text": [
      "   label                                               text\n",
      "0      1  ounce feather bowl hummingbird opec moment ala...\n",
      "1      1  wulvob get your medircations online qnb ikud v...\n",
      "2      0   computer connection from cnn com wednesday es...\n",
      "3      1  university degree obtain a prosperous future m...\n",
      "4      0  thanks for all your answers guys i know i shou...\n"
     ]
    }
   ],
   "source": [
    "from sklearn.model_selection import train_test_split\n",
    "#from sklearn.feature_extraction.text import TfidfVectorizer\n",
    "from sklearn.neighbors import KNeighborsClassifier\n",
    "from sklearn.feature_extraction.text import CountVectorizer\n",
    "from sklearn.metrics import accuracy_score\n",
    "import joblib\n",
    "\n",
    "file = pd.read_csv('../data/combined_data.csv')\n",
    "print(file.head())\n",
    "\n",
    "# ensure 'text' column is treated as a list of strings\n",
    "file['text'] = file['text'].astype(str).tolist()\n",
    "\n",
    "# splitting into a training(80%) and testing(20%) set\n",
    "\n",
    "X = file['text']    # all email texts\n",
    "y = file['label']   # spam label\n",
    "\n",
    "X_train, X_val, y_train, y_val = train_test_split(X, y, test_size = 0.2, random_state=1)\n",
    "\n",
    "# train set:[X_train, y_train]\n",
    "# validation set: [X_val, y_val]"
   ]
  },
  {
   "cell_type": "code",
   "execution_count": 9,
   "id": "276ac76d",
   "metadata": {
    "ExecuteTime": {
     "end_time": "2023-12-07T12:40:20.854477500Z",
     "start_time": "2023-12-07T12:39:01.708200400Z"
    }
   },
   "outputs": [
    {
     "name": "stdout",
     "output_type": "stream",
     "text": [
      "0.9267825044937088\n"
     ]
    },
    {
     "name": "stderr",
     "output_type": "stream",
     "text": [
      "C:\\Users\\Martin\\AppData\\Local\\Temp\\ipykernel_11472\\614092633.py:12: FutureWarning: The behavior of DataFrame concatenation with empty or all-NA entries is deprecated. In a future version, this will no longer exclude empty or all-NA columns when determining the result dtypes. To retain the old behavior, exclude the relevant entries before the concat operation.\n",
      "  results_df = pd.concat([results_df, pd.DataFrame([{'model': '1-NN', 'accuracy': acc}])], ignore_index=True)\n"
     ]
    }
   ],
   "source": [
    "results_df = pd.DataFrame(columns=['model', 'accuracy'])\n",
    "\n",
    "# TODO: uncomment and fill in\n",
    "vectorizer = CountVectorizer() #text to bag of words\n",
    "X_train_vec = vectorizer.fit_transform(X_train) #train vectorizer\n",
    "X_test_vec = vectorizer.transform(X_val) #transform test set\n",
    "\n",
    "model = KNeighborsClassifier(n_neighbors=1, metric='euclidean')\n",
    "model.fit(X_train_vec, y_train) #adjust model param w training data\n",
    "acc = accuracy_score(y_val, model.predict(X_test_vec)) #predict on test data and calculate accuracy\n",
    "\n",
    "results_df = pd.concat([results_df, pd.DataFrame([{'model': '1-NN', 'accuracy': acc}])], ignore_index=True)\n",
    "#print out the dataframe\n",
    "\n",
    "print(acc)"
   ]
  },
  {
   "cell_type": "code",
   "execution_count": 10,
   "outputs": [
    {
     "data": {
      "text/plain": "['../models/countVectorizer.pkl']"
     },
     "execution_count": 10,
     "metadata": {},
     "output_type": "execute_result"
    }
   ],
   "source": [
    "joblib.dump(vectorizer, '../models/countVectorizer.pkl')"
   ],
   "metadata": {
    "collapsed": false,
    "ExecuteTime": {
     "end_time": "2023-12-07T12:40:27.236791500Z",
     "start_time": "2023-12-07T12:40:25.987630400Z"
    }
   },
   "id": "efeb77dc742b15d0"
  },
  {
   "cell_type": "code",
   "execution_count": 5,
   "id": "ae997b33",
   "metadata": {
    "ExecuteTime": {
     "end_time": "2023-12-07T12:24:06.978377200Z",
     "start_time": "2023-12-07T12:21:42.847653Z"
    }
   },
   "outputs": [
    {
     "name": "stdout",
     "output_type": "stream",
     "text": [
      "0.9358897543439185\n",
      "[[7279  637]\n",
      " [ 433 8341]]\n"
     ]
    },
    {
     "data": {
      "text/plain": "['../models/model_KNN3.pkl']"
     },
     "execution_count": 5,
     "metadata": {},
     "output_type": "execute_result"
    }
   ],
   "source": [
    "model_KNN3 = KNeighborsClassifier(n_neighbors=3, metric='euclidean')\n",
    "model_KNN3.fit(X_train_vec, y_train) #adjust model param w training data\n",
    "acc = accuracy_score(y_val, model_KNN3.predict(X_test_vec)) #predict on test data and calculate accuracy\n",
    "\n",
    "\n",
    "results_df = pd.concat([results_df, pd.DataFrame([{'model': '3-NN', 'accuracy': acc}])], ignore_index=True)\n",
    "\n",
    "print(acc)\n",
    "\n",
    "from sklearn.metrics import confusion_matrix\n",
    "\n",
    "print(confusion_matrix(y_val, model_KNN3.predict(X_test_vec))) #confusion matrix on validation data\n",
    "\n",
    "joblib.dump(model_KNN3, '../models/model_KNN3.pkl')"
   ]
  },
  {
   "cell_type": "code",
   "execution_count": 5,
   "id": "b0664b3c",
   "metadata": {},
   "outputs": [
    {
     "name": "stdout",
     "output_type": "stream",
     "text": [
      "0.9317555422408628\n"
     ]
    }
   ],
   "source": [
    "model_KNN5 = KNeighborsClassifier(n_neighbors=5, metric='euclidean')\n",
    "model_KNN5.fit(X_train_vec, y_train) #adjust model param w training data\n",
    "acc = accuracy_score(y_val, model_KNN5.predict(X_test_vec)) #predict on test data and calculate accuracy\n",
    "\n",
    "\n",
    "results_df = pd.concat([results_df, pd.DataFrame([{'model': '5-NN', 'accuracy': acc}])], ignore_index=True)\n",
    "\n",
    "print(acc)"
   ]
  },
  {
   "cell_type": "code",
   "execution_count": 6,
   "id": "dc863ff5",
   "metadata": {},
   "outputs": [
    {
     "name": "stdout",
     "output_type": "stream",
     "text": [
      "0.9291192330736968\n"
     ]
    }
   ],
   "source": [
    "model_KNN7 = KNeighborsClassifier(n_neighbors=7, metric='euclidean')\n",
    "model_KNN7.fit(X_train_vec, y_train) #adjust model param w training data\n",
    "acc = accuracy_score(y_val, model_KNN7.predict(X_test_vec)) #predict on test data and calculate accuracy\n",
    "\n",
    "\n",
    "results_df = pd.concat([results_df, pd.DataFrame([{'model': '7-NN', 'accuracy': acc}])], ignore_index=True)\n",
    "\n",
    "print(acc)"
   ]
  },
  {
   "cell_type": "code",
   "execution_count": 7,
   "id": "17834ccf",
   "metadata": {},
   "outputs": [
    {
     "name": "stdout",
     "output_type": "stream",
     "text": [
      "0.9144997004194129\n"
     ]
    }
   ],
   "source": [
    "model_KNN1_manh = KNeighborsClassifier(n_neighbors=1, metric='manhattan')\n",
    "model_KNN1_manh.fit(X_train_vec, y_train) #adjust model param w training data\n",
    "acc = accuracy_score(y_val, model_KNN1_manh.predict(X_test_vec)) #predict on test data and calculate accuracy\n",
    "\n",
    "\n",
    "results_df = pd.concat([results_df, pd.DataFrame([{'model': '1-NN-manh', 'accuracy': acc}])], ignore_index=True)\n",
    "\n",
    "print(acc)"
   ]
  },
  {
   "cell_type": "code",
   "execution_count": 8,
   "id": "bf1da2a0",
   "metadata": {},
   "outputs": [
    {
     "name": "stdout",
     "output_type": "stream",
     "text": [
      "0.9270820850808867\n"
     ]
    }
   ],
   "source": [
    "model_KNN3_manh = KNeighborsClassifier(n_neighbors=3, metric='manhattan')\n",
    "model_KNN3_manh.fit(X_train_vec, y_train) #adjust model param w training data\n",
    "acc = accuracy_score(y_val, model_KNN3_manh.predict(X_test_vec)) #predict on test data and calculate accuracy\n",
    "\n",
    "\n",
    "results_df = pd.concat([results_df, pd.DataFrame([{'model': '3-NN-manh', 'accuracy': acc}])], ignore_index=True)\n",
    "\n",
    "print(acc)"
   ]
  },
  {
   "cell_type": "code",
   "execution_count": 9,
   "id": "7f86bf5c",
   "metadata": {},
   "outputs": [
    {
     "name": "stdout",
     "output_type": "stream",
     "text": [
      "0.922947872977831\n"
     ]
    }
   ],
   "source": [
    "model_KNN5_manh = KNeighborsClassifier(n_neighbors=5, metric='manhattan')\n",
    "model_KNN5_manh.fit(X_train_vec, y_train) #adjust model param w training data\n",
    "acc = accuracy_score(y_val, model_KNN5_manh.predict(X_test_vec)) #predict on test data and calculate accuracy\n",
    "\n",
    "\n",
    "results_df = pd.concat([results_df, pd.DataFrame([{'model': '5-NN-manh', 'accuracy': acc}])], ignore_index=True)\n",
    "\n",
    "print(acc)"
   ]
  },
  {
   "cell_type": "code",
   "execution_count": 10,
   "id": "b43dc197",
   "metadata": {},
   "outputs": [
    {
     "name": "stdout",
     "output_type": "stream",
     "text": [
      "0.9203714799281006\n"
     ]
    }
   ],
   "source": [
    "model_KNN7_manh = KNeighborsClassifier(n_neighbors=7, metric='manhattan')\n",
    "model_KNN7_manh.fit(X_train_vec, y_train) #adjust model param w training data\n",
    "acc = accuracy_score(y_val, model_KNN7_manh.predict(X_test_vec)) #predict on test data and calculate accuracy\n",
    "\n",
    "\n",
    "results_df = pd.concat([results_df, pd.DataFrame([{'model': '7-NN-manh', 'accuracy': acc}])], ignore_index=True)\n",
    "\n",
    "print(acc)"
   ]
  },
  {
   "cell_type": "code",
   "execution_count": 11,
   "id": "0de8c44b",
   "metadata": {},
   "outputs": [
    {
     "name": "stdout",
     "output_type": "stream",
     "text": [
      "0.9267825044937088\n"
     ]
    }
   ],
   "source": [
    "model_KNN1_mink = KNeighborsClassifier(n_neighbors=1, metric='minkowski')\n",
    "model_KNN1_mink.fit(X_train_vec, y_train) #adjust model param w training data\n",
    "acc = accuracy_score(y_val, model_KNN1_mink.predict(X_test_vec)) #predict on test data and calculate accuracy\n",
    "\n",
    "\n",
    "results_df = pd.concat([results_df, pd.DataFrame([{'model': '1-NN-mink', 'accuracy': acc}])], ignore_index=True)\n",
    "\n",
    "print(acc)"
   ]
  },
  {
   "cell_type": "code",
   "execution_count": 12,
   "id": "91b37a6f",
   "metadata": {},
   "outputs": [
    {
     "name": "stdout",
     "output_type": "stream",
     "text": [
      "0.9358897543439185\n"
     ]
    }
   ],
   "source": [
    "model_KNN3_mink = KNeighborsClassifier(n_neighbors=3, metric='minkowski')\n",
    "model_KNN3_mink.fit(X_train_vec, y_train) #adjust model param w training data\n",
    "acc = accuracy_score(y_val, model_KNN3_mink.predict(X_test_vec)) #predict on test data and calculate accuracy\n",
    "\n",
    "\n",
    "results_df = pd.concat([results_df, pd.DataFrame([{'model': '3-NN-mink', 'accuracy': acc}])], ignore_index=True)\n",
    "\n",
    "print(acc)"
   ]
  },
  {
   "cell_type": "code",
   "execution_count": 13,
   "id": "1e4661ff",
   "metadata": {},
   "outputs": [
    {
     "name": "stdout",
     "output_type": "stream",
     "text": [
      "0.9317555422408628\n"
     ]
    }
   ],
   "source": [
    "model_KNN5_mink = KNeighborsClassifier(n_neighbors=5, metric='minkowski')\n",
    "model_KNN5_mink.fit(X_train_vec, y_train) #adjust model param w training data\n",
    "acc = accuracy_score(y_val, model_KNN5_mink.predict(X_test_vec)) #predict on test data and calculate accuracy\n",
    "\n",
    "\n",
    "results_df = pd.concat([results_df, pd.DataFrame([{'model': '5-NN-mink', 'accuracy': acc}])], ignore_index=True)\n",
    "\n",
    "print(acc)"
   ]
  },
  {
   "cell_type": "code",
   "execution_count": 14,
   "id": "fe49d465",
   "metadata": {},
   "outputs": [
    {
     "name": "stdout",
     "output_type": "stream",
     "text": [
      "        model  accuracy\n",
      "0        1-NN  0.926783\n",
      "1        3-NN  0.935890\n",
      "2        5-NN  0.931756\n",
      "3        7-NN  0.929119\n",
      "4   1-NN-manh  0.914500\n",
      "5   3-NN-manh  0.927082\n",
      "6   5-NN-manh  0.922948\n",
      "7   7-NN-manh  0.920371\n",
      "8   1-NN-mink  0.926783\n",
      "9   3-NN-mink  0.935890\n",
      "10  5-NN-mink  0.931756\n"
     ]
    }
   ],
   "source": [
    "print(results_df)"
   ]
  },
  {
   "cell_type": "code",
   "execution_count": null,
   "id": "8dbb034a",
   "metadata": {},
   "outputs": [],
   "source": []
  }
 ],
 "metadata": {
  "kernelspec": {
   "display_name": "Python 3 (ipykernel)",
   "language": "python",
   "name": "python3"
  },
  "language_info": {
   "codemirror_mode": {
    "name": "ipython",
    "version": 3
   },
   "file_extension": ".py",
   "mimetype": "text/x-python",
   "name": "python",
   "nbconvert_exporter": "python",
   "pygments_lexer": "ipython3",
   "version": "3.11.4"
  }
 },
 "nbformat": 4,
 "nbformat_minor": 5
}
