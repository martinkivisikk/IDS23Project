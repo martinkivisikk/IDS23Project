{
 "cells": [
  {
   "cell_type": "code",
   "execution_count": 1,
   "id": "d9861839",
   "metadata": {},
   "outputs": [],
   "source": [
    "%matplotlib inline"
   ]
  },
  {
   "cell_type": "code",
   "execution_count": 2,
   "id": "68a33d6c",
   "metadata": {},
   "outputs": [],
   "source": [
    "import pandas as pd\n",
    "import matplotlib.pyplot as plt\n",
    "import seaborn as sns"
   ]
  },
  {
   "cell_type": "code",
   "execution_count": 3,
   "id": "4ef25a34",
   "metadata": {},
   "outputs": [
    {
     "name": "stdout",
     "output_type": "stream",
     "text": [
      "First few rows of the dataset:\n",
      "   label                                               text\n",
      "0      1  ounce feather bowl hummingbird opec moment ala...\n",
      "1      1  wulvob get your medircations online qnb ikud v...\n",
      "2      0   computer connection from cnn com wednesday es...\n",
      "3      1  university degree obtain a prosperous future m...\n",
      "4      0  thanks for all your answers guys i know i shou...\n",
      "\n",
      "Dataset information:\n",
      "<class 'pandas.core.frame.DataFrame'>\n",
      "RangeIndex: 83448 entries, 0 to 83447\n",
      "Data columns (total 2 columns):\n",
      " #   Column  Non-Null Count  Dtype \n",
      "---  ------  --------------  ----- \n",
      " 0   label   83448 non-null  int64 \n",
      " 1   text    83448 non-null  object\n",
      "dtypes: int64(1), object(1)\n",
      "memory usage: 1.3+ MB\n",
      "None\n",
      "\n",
      "Summary statistics:\n",
      "              label\n",
      "count  83448.000000\n",
      "mean       0.526196\n",
      "std        0.499316\n",
      "min        0.000000\n",
      "25%        0.000000\n",
      "50%        1.000000\n",
      "75%        1.000000\n",
      "max        1.000000\n",
      "\n",
      "Distribution of the target variable:\n",
      "1    43910\n",
      "0    39538\n",
      "Name: label, dtype: int64\n"
     ]
    },
    {
     "data": {
      "image/png": "[encoded data removed]",
      "text/plain": [
       "<Figure size 800x600 with 1 Axes>"
      ]
     },
     "metadata": {},
     "output_type": "display_data"
    }
   ],
   "source": [
    "# Specify the path to your CSV file\n",
    "csv_file_path = \"../data/combined_data.csv\"\n",
    "\n",
    "# Read the CSV file into a pandas DataFrame\n",
    "df = pd.read_csv(csv_file_path)\n",
    "\n",
    "# Display the first few rows of the dataset\n",
    "print(\"First few rows of the dataset:\")\n",
    "print(df.head())\n",
    "\n",
    "# Display basic information about the dataset\n",
    "print(\"\\nDataset information:\")\n",
    "print(df.info())\n",
    "\n",
    "# Display summary statistics\n",
    "print(\"\\nSummary statistics:\")\n",
    "print(df.describe())\n",
    "\n",
    "# Display the distribution of the target variable\n",
    "print(\"\\nDistribution of the target variable:\")\n",
    "print(df['label'].value_counts())\n",
    "\n",
    "# Plot the distribution of spam emails\n",
    "plt.figure(figsize=(8, 6))\n",
    "df['label'].value_counts().plot(kind='bar', color=['blue', 'red'])\n",
    "plt.title('Distribution of Spam and Non-Spam Emails')\n",
    "plt.xlabel('Label')\n",
    "plt.ylabel('Count')\n",
    "plt.xticks(rotation=0, ticks=[0, 1], labels=['Non-Spam (0)', 'Spam (1)'])\n",
    "plt.show()"
   ]
  },
  {
   "cell_type": "code",
   "execution_count": 4,
   "id": "fb9f561b",
   "metadata": {},
   "outputs": [],
   "source": [
    "def get_character_count(text_column):\n",
    "    \"\"\"\n",
    "    Calculate the total character count in a text column.\n",
    "\n",
    "    Parameters:\n",
    "    - text_column: Pandas Series, the column containing text data.\n",
    "\n",
    "    Returns:\n",
    "    - Pandas Series, the character count for each entry in the text column.\n",
    "    \"\"\"\n",
    "    return text_column.apply(lambda x: len(str(x)))\n",
    "\n",
    "df['character_count'] = get_character_count(df['text'])\n",
    "\n",
    "def get_word_count(text_column):\n",
    "    \"\"\"\n",
    "    Calculate the total word count in a text column.\n",
    "\n",
    "    Parameters:\n",
    "    - text_column: Pandas Series, the column containing text data.\n",
    "\n",
    "    Returns:\n",
    "    - Pandas Series, the word count for each entry in the text column.\n",
    "    \"\"\"\n",
    "    return text_column.apply(lambda x: len(str(x).split()))\n",
    "\n",
    "df['word_count'] = get_word_count(df['text'])\n",
    "\n",
    "def get_average_word_length(text_column):\n",
    "    \"\"\"\n",
    "    Calculate the average word length in a text column.\n",
    "\n",
    "    Parameters:\n",
    "    - text_column: Pandas Series, the column containing text data.\n",
    "\n",
    "    Returns:\n",
    "    - Pandas Series, the average word length for each entry in the text column.\n",
    "    \"\"\"\n",
    "    return text_column.apply(lambda x: sum(len(word) for word in str(x).split()) / len(str(x).split()) if len(str(x).split()) > 0 else 0)\n",
    "\n",
    "df['average_word_length'] = get_average_word_length(df['text'])\n"
   ]
  }
 ],
 "metadata": {
  "kernelspec": {
   "display_name": "Python 3 (ipykernel)",
   "language": "python",
   "name": "python3"
  },
  "language_info": {
   "codemirror_mode": {
    "name": "ipython",
    "version": 3
   },
   "file_extension": ".py",
   "mimetype": "text/x-python",
   "name": "python",
   "nbconvert_exporter": "python",
   "pygments_lexer": "ipython3",
   "version": "3.11.4"
  }
 },
 "nbformat": 4,
 "nbformat_minor": 5
}
